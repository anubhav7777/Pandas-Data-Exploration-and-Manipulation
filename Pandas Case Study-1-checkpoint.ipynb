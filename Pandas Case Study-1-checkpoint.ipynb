{
 "cells": [
  {
   "cell_type": "markdown",
   "metadata": {},
   "source": [
    "#Import The Customer Data"
   ]
  },
  {
   "cell_type": "code",
   "execution_count": 3,
   "metadata": {},
   "outputs": [],
   "source": [
    "import os\n",
    "import numpy as np\n",
    "import pandas as pd"
   ]
  },
  {
   "cell_type": "code",
   "execution_count": 4,
   "metadata": {},
   "outputs": [
    {
     "data": {
      "text/plain": [
       "u'C:\\\\Users\\\\Administrator'"
      ]
     },
     "execution_count": 4,
     "metadata": {},
     "output_type": "execute_result"
    }
   ],
   "source": [
    "%pwd"
   ]
  },
  {
   "cell_type": "code",
   "execution_count": 5,
   "metadata": {},
   "outputs": [
    {
     "name": "stdout",
     "output_type": "stream",
     "text": [
      "C:\\Users\\Administrator\\Desktop\n"
     ]
    }
   ],
   "source": [
    "%cd C://Users//Administrator//Desktop"
   ]
  },
  {
   "cell_type": "code",
   "execution_count": 6,
   "metadata": {},
   "outputs": [
    {
     "data": {
      "text/plain": [
       "u'C:\\\\Users\\\\Administrator\\\\Desktop'"
      ]
     },
     "execution_count": 6,
     "metadata": {},
     "output_type": "execute_result"
    }
   ],
   "source": [
    "%pwd"
   ]
  },
  {
   "cell_type": "code",
   "execution_count": 7,
   "metadata": {},
   "outputs": [],
   "source": [
    "cus_data = pd.read_csv('Customers.csv')"
   ]
  },
  {
   "cell_type": "code",
   "execution_count": 8,
   "metadata": {
    "scrolled": true
   },
   "outputs": [
    {
     "data": {
      "text/html": [
       "<div>\n",
       "<style scoped>\n",
       "    .dataframe tbody tr th:only-of-type {\n",
       "        vertical-align: middle;\n",
       "    }\n",
       "\n",
       "    .dataframe tbody tr th {\n",
       "        vertical-align: top;\n",
       "    }\n",
       "\n",
       "    .dataframe thead th {\n",
       "        text-align: right;\n",
       "    }\n",
       "</style>\n",
       "<table border=\"1\" class=\"dataframe\">\n",
       "  <thead>\n",
       "    <tr style=\"text-align: right;\">\n",
       "      <th></th>\n",
       "      <th>Customer_ID</th>\n",
       "      <th>Gender</th>\n",
       "      <th>First_Date</th>\n",
       "      <th>First_region</th>\n",
       "      <th>First_state</th>\n",
       "      <th>First_city</th>\n",
       "      <th>Recent_Date</th>\n",
       "      <th>Last_region</th>\n",
       "      <th>Last_state</th>\n",
       "      <th>Last_city</th>\n",
       "      <th>Customer_Value</th>\n",
       "      <th>Buy_Times</th>\n",
       "      <th>Points_Earned</th>\n",
       "      <th>Points_Redeemed</th>\n",
       "    </tr>\n",
       "  </thead>\n",
       "  <tbody>\n",
       "    <tr>\n",
       "      <th>0</th>\n",
       "      <td>129609144</td>\n",
       "      <td>M</td>\n",
       "      <td>20130130</td>\n",
       "      <td>West</td>\n",
       "      <td>Gujarat</td>\n",
       "      <td>Surat</td>\n",
       "      <td>20130216</td>\n",
       "      <td>West</td>\n",
       "      <td>Gujarat</td>\n",
       "      <td>Surat</td>\n",
       "      <td>2032.0</td>\n",
       "      <td>2</td>\n",
       "      <td>200.0</td>\n",
       "      <td>0.0</td>\n",
       "    </tr>\n",
       "    <tr>\n",
       "      <th>1</th>\n",
       "      <td>129627580</td>\n",
       "      <td>M</td>\n",
       "      <td>20130129</td>\n",
       "      <td>North</td>\n",
       "      <td>Delhi</td>\n",
       "      <td>Delhi</td>\n",
       "      <td>20130129</td>\n",
       "      <td>North</td>\n",
       "      <td>Delhi</td>\n",
       "      <td>Delhi</td>\n",
       "      <td>1709.0</td>\n",
       "      <td>1</td>\n",
       "      <td>100.0</td>\n",
       "      <td>0.0</td>\n",
       "    </tr>\n",
       "  </tbody>\n",
       "</table>\n",
       "</div>"
      ],
      "text/plain": [
       "   Customer_ID Gender  First_Date First_region First_state First_city  \\\n",
       "0    129609144      M    20130130         West     Gujarat      Surat   \n",
       "1    129627580      M    20130129        North       Delhi      Delhi   \n",
       "\n",
       "   Recent_Date Last_region Last_state Last_city  Customer_Value  Buy_Times  \\\n",
       "0     20130216        West    Gujarat     Surat          2032.0          2   \n",
       "1     20130129       North      Delhi     Delhi          1709.0          1   \n",
       "\n",
       "   Points_Earned  Points_Redeemed  \n",
       "0          200.0              0.0  \n",
       "1          100.0              0.0  "
      ]
     },
     "execution_count": 8,
     "metadata": {},
     "output_type": "execute_result"
    }
   ],
   "source": [
    "cus_data.head(2)"
   ]
  },
  {
   "cell_type": "markdown",
   "metadata": {},
   "source": [
    "#Understand The Data Using Diffrent Functions"
   ]
  },
  {
   "cell_type": "code",
   "execution_count": 9,
   "metadata": {},
   "outputs": [
    {
     "data": {
      "text/plain": [
       "(10000, 14)"
      ]
     },
     "execution_count": 9,
     "metadata": {},
     "output_type": "execute_result"
    }
   ],
   "source": [
    "cus_data.shape"
   ]
  },
  {
   "cell_type": "code",
   "execution_count": 10,
   "metadata": {},
   "outputs": [
    {
     "name": "stdout",
     "output_type": "stream",
     "text": [
      "<class 'pandas.core.frame.DataFrame'>\n",
      "RangeIndex: 10000 entries, 0 to 9999\n",
      "Data columns (total 14 columns):\n",
      "Customer_ID        10000 non-null int64\n",
      "Gender             9986 non-null object\n",
      "First_Date         10000 non-null int64\n",
      "First_region       9979 non-null object\n",
      "First_state        9983 non-null object\n",
      "First_city         10000 non-null object\n",
      "Recent_Date        10000 non-null int64\n",
      "Last_region        10000 non-null object\n",
      "Last_state         10000 non-null object\n",
      "Last_city          10000 non-null object\n",
      "Customer_Value     9964 non-null float64\n",
      "Buy_Times          10000 non-null int64\n",
      "Points_Earned      9979 non-null float64\n",
      "Points_Redeemed    9988 non-null float64\n",
      "dtypes: float64(3), int64(4), object(7)\n",
      "memory usage: 1.1+ MB\n"
     ]
    }
   ],
   "source": [
    "cus_data.info()"
   ]
  },
  {
   "cell_type": "code",
   "execution_count": 11,
   "metadata": {},
   "outputs": [
    {
     "data": {
      "text/plain": [
       "Index([u'Customer_ID', u'Gender', u'First_Date', u'First_region',\n",
       "       u'First_state', u'First_city', u'Recent_Date', u'Last_region',\n",
       "       u'Last_state', u'Last_city', u'Customer_Value', u'Buy_Times',\n",
       "       u'Points_Earned', u'Points_Redeemed'],\n",
       "      dtype='object')"
      ]
     },
     "execution_count": 11,
     "metadata": {},
     "output_type": "execute_result"
    }
   ],
   "source": [
    "cus_data.columns"
   ]
  },
  {
   "cell_type": "code",
   "execution_count": 12,
   "metadata": {},
   "outputs": [
    {
     "data": {
      "text/plain": [
       "<bound method DataFrame.get_dtype_counts of       Customer_ID Gender  First_Date First_region     First_state  \\\n",
       "0       129609144      M    20130130         West         Gujarat   \n",
       "1       129627580      M    20130129        North           Delhi   \n",
       "2       130363481      M    20130221         West         Gujarat   \n",
       "3        49817480      M    20130222         West     Maharashtra   \n",
       "4       126343829      F    20130301        North           Delhi   \n",
       "5         8223758      F    20130314         West         Gujarat   \n",
       "6       131816709      M    20130318        South  Andhra Pradesh   \n",
       "7       118543320      F    20130321        North   Uttar Pradesh   \n",
       "8       131365512      M    20130323         East     West Bengal   \n",
       "9          758571      M    20130324        South       Karnataka   \n",
       "10       85489184      M    20120101         West     Maharashtra   \n",
       "11       85438231      M    20120103         West     Maharashtra   \n",
       "12       74053888      F    20120102         West         Gujarat   \n",
       "13        7256956      M    20120102        North       Rajasthan   \n",
       "14        1610085      F    20120103        North           Delhi   \n",
       "15        7518872      M    20120104        North   Uttar Pradesh   \n",
       "16        8638553      M    20120103         West         Gujarat   \n",
       "17       85438392      M    20120103         West         Gujarat   \n",
       "18       63508964      M    20120106         West     Maharashtra   \n",
       "19       23667984      F    20120107         West     Maharashtra   \n",
       "20       84634600      M    20120108        South       Karnataka   \n",
       "21       85207999      M    20120110        South  Andhra Pradesh   \n",
       "22       86066230      M    20120111         West         Gujarat   \n",
       "23        6888521      M    20120112         West     Maharashtra   \n",
       "24       87030390      M    20120111         East     West Bengal   \n",
       "25       85645488      M    20120111        North  Madhya Pradesh   \n",
       "26       12935950      M    20120113         West         Gujarat   \n",
       "27       10954886      F    20120115        North  Madhya Pradesh   \n",
       "28       84437746      M    20120115         East     West Bengal   \n",
       "29        7514232      M    20120114        North           Delhi   \n",
       "...           ...    ...         ...          ...             ...   \n",
       "9970      5599557      F    20120115         West         Gujarat   \n",
       "9971      7956527      F    20120115        North           Delhi   \n",
       "9972     10184222      M    20120116        North   Uttar Pradesh   \n",
       "9973     88092811      M    20120116         West         Gujarat   \n",
       "9974     84750517      F    20120119         West         Gujarat   \n",
       "9975      5686217      M    20120118         West     Maharashtra   \n",
       "9976     63669926      M    20120118        South       Telangana   \n",
       "9977     90964885      M    20120121         West         Gujarat   \n",
       "9978     87989417      M    20120127         West         Gujarat   \n",
       "9979      6005239      M    20120129         East     West Bengal   \n",
       "9980     91066310      M    20120130         West         Gujarat   \n",
       "9981       414338      M    20120131         West         Gujarat   \n",
       "9982      9144258      M    20120130        South      Tamil Nadu   \n",
       "9983     91076263      F    20120130         East     West Bengal   \n",
       "9984     85012902      M    20120201         West         Gujarat   \n",
       "9985     14762484      M    20120131        North  Madhya Pradesh   \n",
       "9986     69453769      M    20120201        South      Tamil Nadu   \n",
       "9987      7060195      M    20120202         West         Gujarat   \n",
       "9988     91095093      M    20120201        South       Telangana   \n",
       "9989     91098168      M    20120201        South      Tamil Nadu   \n",
       "9990     91227615      M    20120203         West         Gujarat   \n",
       "9991     91136028      M    20120203         West     Maharashtra   \n",
       "9992       794622      F    20120203         West         Gujarat   \n",
       "9993     91289992      M    20120205         West     Maharashtra   \n",
       "9994     73876936      M    20120205         West         Gujarat   \n",
       "9995     50093138      M    20120208        North   Uttar Pradesh   \n",
       "9996     92763145      M    20120209        South       Telangana   \n",
       "9997     73839417      M    20120210        South       Karnataka   \n",
       "9998     69606859      M    20120215        North   Uttar Pradesh   \n",
       "9999    113292109      M    20120217         West     Maharashtra   \n",
       "\n",
       "            First_city  Recent_Date Last_region      Last_state  \\\n",
       "0                Surat     20130216        West         Gujarat   \n",
       "1                Delhi     20130129       North           Delhi   \n",
       "2                Surat     20130221        West         Gujarat   \n",
       "3     Pimpri-Chinchwad     20130222        West     Maharashtra   \n",
       "4                Delhi     20130301       North           Delhi   \n",
       "5                Surat     20130314        West         Gujarat   \n",
       "6        Visakhapatnam     20130318       South  Andhra Pradesh   \n",
       "7               Kanpur     20130321       North   Uttar Pradesh   \n",
       "8              Kolkata     20130331        East     West Bengal   \n",
       "9            Bangalore     20130325        West     Maharashtra   \n",
       "10              Nagpur     20120101        West     Maharashtra   \n",
       "11              Mumbai     20121111        East     West Bengal   \n",
       "12               Surat     20130314        West         Gujarat   \n",
       "13              Jaipur     20121126       North       Rajasthan   \n",
       "14               Delhi     20121013       North           Delhi   \n",
       "15              Kanpur     20130123       North   Uttar Pradesh   \n",
       "16           Ahmedabad     20120103        West         Gujarat   \n",
       "17           Ahmedabad     20130212       South       Telangana   \n",
       "18    Pimpri-Chinchwad     20130222        West     Maharashtra   \n",
       "19              Nagpur     20130313        West     Maharashtra   \n",
       "20           Bangalore     20130307       South       Karnataka   \n",
       "21       Visakhapatnam     20121229       South  Andhra Pradesh   \n",
       "22            Vadodara     20120111        West         Gujarat   \n",
       "23               Thane     20121210        West     Maharashtra   \n",
       "24             Kolkata     20130302        East     West Bengal   \n",
       "25              Bhopal     20120111       North  Madhya Pradesh   \n",
       "26               Surat     20120623        West         Gujarat   \n",
       "27              Indore     20130118       North  Madhya Pradesh   \n",
       "28             Kolkata     20130222       South       Karnataka   \n",
       "29               Delhi     20130108       North           Delhi   \n",
       "...                ...          ...         ...             ...   \n",
       "9970            Rajkot     20130330        West         Gujarat   \n",
       "9971             Delhi     20130222       North           Delhi   \n",
       "9972            Kanpur     20121014       North   Uttar Pradesh   \n",
       "9973             Surat     20130222        West         Gujarat   \n",
       "9974             Surat     20130319        West         Gujarat   \n",
       "9975             Thane     20120524        West         Gujarat   \n",
       "9976         Hyderabad     20130114       South       Telangana   \n",
       "9977             Surat     20120121        West         Gujarat   \n",
       "9978             Surat     20120127        West         Gujarat   \n",
       "9979           Kolkata     20121127       South       Telangana   \n",
       "9980             Surat     20130312        West         Gujarat   \n",
       "9981             Surat     20120131        West         Gujarat   \n",
       "9982           Chennai     20130313        West     Maharashtra   \n",
       "9983           Kolkata     20130310        East     West Bengal   \n",
       "9984             Surat     20130310        West         Gujarat   \n",
       "9985            Indore     20121211       North  Madhya Pradesh   \n",
       "9986           Chennai     20120201       South      Tamil Nadu   \n",
       "9987         Ahmedabad     20130328        West         Gujarat   \n",
       "9988         Hyderabad     20120201       South       Telangana   \n",
       "9989           Chennai     20120201       South      Tamil Nadu   \n",
       "9990             Surat     20120203        West         Gujarat   \n",
       "9991            Mumbai     20120523       South       Karnataka   \n",
       "9992             Surat     20120508        West         Gujarat   \n",
       "9993  Pimpri-Chinchwad     20120205        West     Maharashtra   \n",
       "9994             Surat     20130218        West         Gujarat   \n",
       "9995              Agra     20121114       North   Uttar Pradesh   \n",
       "9996         Hyderabad     20130319       South       Telangana   \n",
       "9997         Bangalore     20130216       South       Karnataka   \n",
       "9998           Lucknow     20120215       North   Uttar Pradesh   \n",
       "9999            Mumbai     20120217        West     Maharashtra   \n",
       "\n",
       "             Last_city  Customer_Value  Buy_Times  Points_Earned  \\\n",
       "0                Surat      2032.00000          2          200.0   \n",
       "1                Delhi      1709.00000          1          100.0   \n",
       "2                Surat       523.00000          1           10.0   \n",
       "3     Pimpri-Chinchwad      5132.00000          1          170.0   \n",
       "4                Delhi      1008.00000          1           60.0   \n",
       "5                Surat      2606.90000          1         1140.0   \n",
       "6        Visakhapatnam      1369.00000          1           79.0   \n",
       "7               Kanpur      5690.00000          1          360.0   \n",
       "8              Kolkata      2555.00000          2          190.0   \n",
       "9                Thane      2677.80000          3          145.0   \n",
       "10              Nagpur       855.00000          1           35.0   \n",
       "11            Bhatpara      5969.00000          5          294.0   \n",
       "12               Surat      9142.49700         10          639.0   \n",
       "13              Jaipur      8019.60000          5          609.0   \n",
       "14               Delhi     10380.19900          6         1189.0   \n",
       "15              Kanpur     14587.00000          6          865.0   \n",
       "16           Ahmedabad      1011.00000          1          115.0   \n",
       "17           Hyderabad      6065.30000          5          485.0   \n",
       "18    Pimpri-Chinchwad    145472.70200         36          680.0   \n",
       "19              Nagpur     19640.70000         12          268.0   \n",
       "20           Bangalore     32377.60200         22         1029.0   \n",
       "21       Visakhapatnam     17202.40000         13          449.0   \n",
       "22            Vadodara       900.50000          1          100.0   \n",
       "23    Pimpri-Chinchwad      4588.99900          4          190.0   \n",
       "24             Kolkata     33047.00400         31          141.0   \n",
       "25              Bhopal       878.00000          1           80.0   \n",
       "26           Ahmedabad     18358.00000          6          874.0   \n",
       "27              Indore     15426.39800         13         1672.0   \n",
       "28           Bangalore      5415.00100          6          736.0   \n",
       "29               Delhi     51692.99900         29         4275.0   \n",
       "...                ...             ...        ...            ...   \n",
       "9970            Rajkot     74662.77636         36           22.0   \n",
       "9971             Delhi     66082.19900         37         2385.0   \n",
       "9972            Kanpur      2031.00100          2          215.0   \n",
       "9973             Surat     14786.60000         12          337.0   \n",
       "9974             Surat     20696.90000         11         1935.0   \n",
       "9975             Surat     16858.09900         11          915.0   \n",
       "9976         Hyderabad     12863.00000          4         1030.0   \n",
       "9977             Surat       198.00000          1            0.0   \n",
       "9978             Surat       929.99900          1           50.0   \n",
       "9979         Hyderabad     12246.80000          6          600.0   \n",
       "9980             Surat     11723.00000         10          475.0   \n",
       "9981             Surat      1080.00000          1            0.0   \n",
       "9982            Mumbai     42195.09900         23         4441.0   \n",
       "9983           Kolkata     34492.90100         14         1591.0   \n",
       "9984             Surat     30123.30000          9         1555.0   \n",
       "9985            Bhopal     88407.50000         23         4317.0   \n",
       "9986           Chennai       480.00000          1           10.0   \n",
       "9987         Ahmedabad      6693.20000          3          645.0   \n",
       "9988         Hyderabad       825.99700          1           55.0   \n",
       "9989           Chennai       408.00000          1            0.0   \n",
       "9990             Surat       617.00000          1           35.0   \n",
       "9991         Bangalore      4383.80100          5           10.0   \n",
       "9992             Surat      8081.00000          4          594.0   \n",
       "9993  Pimpri-Chinchwad      1069.00000          1           81.0   \n",
       "9994             Surat      8059.59900          5          647.0   \n",
       "9995              Agra     13818.60000          7         1195.0   \n",
       "9996         Hyderabad     13016.50000          7          870.0   \n",
       "9997         Bangalore     44057.90000         11         2242.0   \n",
       "9998           Lucknow      1116.00000          1            0.0   \n",
       "9999            Mumbai      1222.00000          1           60.0   \n",
       "\n",
       "      Points_Redeemed  \n",
       "0                 0.0  \n",
       "1                 0.0  \n",
       "2                 0.0  \n",
       "3                 0.0  \n",
       "4                 0.0  \n",
       "5                 0.0  \n",
       "6                 0.0  \n",
       "7                 0.0  \n",
       "8                 0.0  \n",
       "9                 0.0  \n",
       "10                0.0  \n",
       "11                0.0  \n",
       "12                2.0  \n",
       "13                0.0  \n",
       "14                0.0  \n",
       "15                0.0  \n",
       "16                0.0  \n",
       "17                0.0  \n",
       "18            16635.0  \n",
       "19             2549.0  \n",
       "20             1771.0  \n",
       "21                0.0  \n",
       "22                0.0  \n",
       "23                0.0  \n",
       "24             2214.0  \n",
       "25                0.0  \n",
       "26                0.0  \n",
       "27                0.0  \n",
       "28                0.0  \n",
       "29               12.0  \n",
       "...               ...  \n",
       "9970          10472.0  \n",
       "9971          13520.0  \n",
       "9972              0.0  \n",
       "9973            300.0  \n",
       "9974              0.0  \n",
       "9975              0.0  \n",
       "9976              0.0  \n",
       "9977              0.0  \n",
       "9978              0.0  \n",
       "9979              0.0  \n",
       "9980              0.0  \n",
       "9981              0.0  \n",
       "9982              0.0  \n",
       "9983              0.0  \n",
       "9984              0.0  \n",
       "9985              0.0  \n",
       "9986            580.0  \n",
       "9987              0.0  \n",
       "9988              0.0  \n",
       "9989              0.0  \n",
       "9990              0.0  \n",
       "9991            370.0  \n",
       "9992              0.0  \n",
       "9993              0.0  \n",
       "9994              0.0  \n",
       "9995           1800.0  \n",
       "9996              0.0  \n",
       "9997            585.0  \n",
       "9998            310.0  \n",
       "9999              0.0  \n",
       "\n",
       "[10000 rows x 14 columns]>"
      ]
     },
     "execution_count": 12,
     "metadata": {},
     "output_type": "execute_result"
    }
   ],
   "source": [
    "cus_data.get_dtype_counts"
   ]
  },
  {
   "cell_type": "code",
   "execution_count": 13,
   "metadata": {},
   "outputs": [
    {
     "data": {
      "text/plain": [
       "RangeIndex(start=0, stop=10000, step=1)"
      ]
     },
     "execution_count": 13,
     "metadata": {},
     "output_type": "execute_result"
    }
   ],
   "source": [
    "cus_data.index"
   ]
  },
  {
   "cell_type": "code",
   "execution_count": 14,
   "metadata": {},
   "outputs": [
    {
     "data": {
      "text/plain": [
       "1"
      ]
     },
     "execution_count": 14,
     "metadata": {},
     "output_type": "execute_result"
    }
   ],
   "source": [
    "cus_data.dtypes.ndim"
   ]
  },
  {
   "cell_type": "markdown",
   "metadata": {},
   "source": [
    "#Percentage Of Missing Values For Customer_Value variable"
   ]
  },
  {
   "cell_type": "code",
   "execution_count": 15,
   "metadata": {},
   "outputs": [],
   "source": [
    "misi = cus_data.isnull().sum()\n",
    "tval = len(cus_data)"
   ]
  },
  {
   "cell_type": "code",
   "execution_count": 16,
   "metadata": {},
   "outputs": [
    {
     "name": "stdout",
     "output_type": "stream",
     "text": [
      "0.36\n"
     ]
    }
   ],
   "source": [
    "per_mis = (misi/tval)*100\n",
    "print  per_mis.Customer_Value"
   ]
  },
  {
   "cell_type": "markdown",
   "metadata": {},
   "source": [
    "#Create Two Subsets With Unique and Duplicated Values"
   ]
  },
  {
   "cell_type": "code",
   "execution_count": 17,
   "metadata": {},
   "outputs": [
    {
     "data": {
      "text/plain": [
       "0    False\n",
       "1    False\n",
       "dtype: bool"
      ]
     },
     "execution_count": 17,
     "metadata": {},
     "output_type": "execute_result"
    }
   ],
   "source": [
    "cus_data.duplicated().head(2)"
   ]
  },
  {
   "cell_type": "code",
   "execution_count": 18,
   "metadata": {},
   "outputs": [],
   "source": [
    "dups = cus_data[cus_data.duplicated() == True]\n",
    "unique = cus_data[cus_data.duplicated() == False]"
   ]
  },
  {
   "cell_type": "code",
   "execution_count": 19,
   "metadata": {
    "scrolled": true
   },
   "outputs": [
    {
     "name": "stdout",
     "output_type": "stream",
     "text": [
      "Duplicated Set\n",
      "      Customer_ID Gender  First_Date First_region First_state First_city  \\\n",
      "9973     88092811      M    20120116         West     Gujarat      Surat   \n",
      "9974     84750517      F    20120119         West     Gujarat      Surat   \n",
      "\n",
      "      Recent_Date Last_region Last_state Last_city  Customer_Value  Buy_Times  \\\n",
      "9973     20130222        West    Gujarat     Surat         14786.6         12   \n",
      "9974     20130319        West    Gujarat     Surat         20696.9         11   \n",
      "\n",
      "      Points_Earned  Points_Redeemed  \n",
      "9973          337.0            300.0  \n",
      "9974         1935.0              0.0  \n",
      " Unique Set\n",
      "   Customer_ID Gender  First_Date First_region First_state First_city  \\\n",
      "0    129609144      M    20130130         West     Gujarat      Surat   \n",
      "1    129627580      M    20130129        North       Delhi      Delhi   \n",
      "\n",
      "   Recent_Date Last_region Last_state Last_city  Customer_Value  Buy_Times  \\\n",
      "0     20130216        West    Gujarat     Surat          2032.0          2   \n",
      "1     20130129       North      Delhi     Delhi          1709.0          1   \n",
      "\n",
      "   Points_Earned  Points_Redeemed  \n",
      "0          200.0              0.0  \n",
      "1          100.0              0.0  \n"
     ]
    }
   ],
   "source": [
    "print \"Duplicated Set\"\n",
    "print dups.head(2)\n",
    "print \" Unique Set\"\n",
    "print unique.head(2)"
   ]
  },
  {
   "cell_type": "markdown",
   "metadata": {},
   "source": [
    "#Create Dataset with Customer_Value>10000"
   ]
  },
  {
   "cell_type": "code",
   "execution_count": 20,
   "metadata": {
    "scrolled": false
   },
   "outputs": [
    {
     "name": "stdout",
     "output_type": "stream",
     "text": [
      "    Customer_ID Gender  First_Date First_region    First_state First_city  \\\n",
      "14      1610085      F    20120103        North          Delhi      Delhi   \n",
      "15      7518872      M    20120104        North  Uttar Pradesh     Kanpur   \n",
      "\n",
      "    Recent_Date Last_region     Last_state Last_city  Customer_Value  \\\n",
      "14     20121013       North          Delhi     Delhi       10380.199   \n",
      "15     20130123       North  Uttar Pradesh    Kanpur       14587.000   \n",
      "\n",
      "    Buy_Times  Points_Earned  Points_Redeemed  \n",
      "14          6         1189.0              0.0  \n",
      "15          6          865.0              0.0  \n"
     ]
    }
   ],
   "source": [
    "high_val = cus_data[cus_data.Customer_Value > 10000]\n",
    "print high_val.head(2)"
   ]
  },
  {
   "cell_type": "markdown",
   "metadata": {},
   "source": [
    "#Create a new variable called Customer Value Segment\n",
    "##-> High Value Segment (Customer_Value>25000)\n",
    "###-> Medium Value Segment (10000<Customer_Value<25000)\n",
    "####->Low Value Segment (Vustomer_Value<10000)"
   ]
  },
  {
   "cell_type": "code",
   "execution_count": 21,
   "metadata": {},
   "outputs": [
    {
     "name": "stdout",
     "output_type": "stream",
     "text": [
      "5098714.699\n"
     ]
    }
   ],
   "source": [
    "print cus_data.Customer_Value.max()"
   ]
  },
  {
   "cell_type": "code",
   "execution_count": 22,
   "metadata": {},
   "outputs": [],
   "source": [
    "list = ['Low Value Segment','Medium Value Segment','High Value Segment']"
   ]
  },
  {
   "cell_type": "code",
   "execution_count": 23,
   "metadata": {},
   "outputs": [],
   "source": [
    "cus_data['Customer Value Segment'] = pd.cut(cus_data.Customer_Value, bins = [0,10000,25000,6000000],right = True,labels=list)"
   ]
  },
  {
   "cell_type": "code",
   "execution_count": 24,
   "metadata": {
    "scrolled": true
   },
   "outputs": [
    {
     "data": {
      "text/html": [
       "<div>\n",
       "<style scoped>\n",
       "    .dataframe tbody tr th:only-of-type {\n",
       "        vertical-align: middle;\n",
       "    }\n",
       "\n",
       "    .dataframe tbody tr th {\n",
       "        vertical-align: top;\n",
       "    }\n",
       "\n",
       "    .dataframe thead th {\n",
       "        text-align: right;\n",
       "    }\n",
       "</style>\n",
       "<table border=\"1\" class=\"dataframe\">\n",
       "  <thead>\n",
       "    <tr style=\"text-align: right;\">\n",
       "      <th></th>\n",
       "      <th>Customer_ID</th>\n",
       "      <th>Gender</th>\n",
       "      <th>First_Date</th>\n",
       "      <th>First_region</th>\n",
       "      <th>First_state</th>\n",
       "      <th>First_city</th>\n",
       "      <th>Recent_Date</th>\n",
       "      <th>Last_region</th>\n",
       "      <th>Last_state</th>\n",
       "      <th>Last_city</th>\n",
       "      <th>Customer_Value</th>\n",
       "      <th>Buy_Times</th>\n",
       "      <th>Points_Earned</th>\n",
       "      <th>Points_Redeemed</th>\n",
       "      <th>Customer Value Segment</th>\n",
       "    </tr>\n",
       "  </thead>\n",
       "  <tbody>\n",
       "    <tr>\n",
       "      <th>0</th>\n",
       "      <td>129609144</td>\n",
       "      <td>M</td>\n",
       "      <td>20130130</td>\n",
       "      <td>West</td>\n",
       "      <td>Gujarat</td>\n",
       "      <td>Surat</td>\n",
       "      <td>20130216</td>\n",
       "      <td>West</td>\n",
       "      <td>Gujarat</td>\n",
       "      <td>Surat</td>\n",
       "      <td>2032.0</td>\n",
       "      <td>2</td>\n",
       "      <td>200.0</td>\n",
       "      <td>0.0</td>\n",
       "      <td>Low Value Segment</td>\n",
       "    </tr>\n",
       "    <tr>\n",
       "      <th>1</th>\n",
       "      <td>129627580</td>\n",
       "      <td>M</td>\n",
       "      <td>20130129</td>\n",
       "      <td>North</td>\n",
       "      <td>Delhi</td>\n",
       "      <td>Delhi</td>\n",
       "      <td>20130129</td>\n",
       "      <td>North</td>\n",
       "      <td>Delhi</td>\n",
       "      <td>Delhi</td>\n",
       "      <td>1709.0</td>\n",
       "      <td>1</td>\n",
       "      <td>100.0</td>\n",
       "      <td>0.0</td>\n",
       "      <td>Low Value Segment</td>\n",
       "    </tr>\n",
       "  </tbody>\n",
       "</table>\n",
       "</div>"
      ],
      "text/plain": [
       "   Customer_ID Gender  First_Date First_region First_state First_city  \\\n",
       "0    129609144      M    20130130         West     Gujarat      Surat   \n",
       "1    129627580      M    20130129        North       Delhi      Delhi   \n",
       "\n",
       "   Recent_Date Last_region Last_state Last_city  Customer_Value  Buy_Times  \\\n",
       "0     20130216        West    Gujarat     Surat          2032.0          2   \n",
       "1     20130129       North      Delhi     Delhi          1709.0          1   \n",
       "\n",
       "   Points_Earned  Points_Redeemed Customer Value Segment  \n",
       "0          200.0              0.0      Low Value Segment  \n",
       "1          100.0              0.0      Low Value Segment  "
      ]
     },
     "execution_count": 24,
     "metadata": {},
     "output_type": "execute_result"
    }
   ],
   "source": [
    "cus_data.head(2)"
   ]
  },
  {
   "cell_type": "markdown",
   "metadata": {},
   "source": [
    "#Create Variables Average_Revenue_Per_Trip and Balance_Points in customer data set"
   ]
  },
  {
   "cell_type": "code",
   "execution_count": 25,
   "metadata": {},
   "outputs": [],
   "source": [
    "cus_data['Average Revenue Per Trip'] = (cus_data.Customer_Value / cus_data.Buy_Times)"
   ]
  },
  {
   "cell_type": "code",
   "execution_count": 26,
   "metadata": {},
   "outputs": [],
   "source": [
    "cus_data['Balance Points'] = cus_data.Points_Earned - cus_data.Points_Redeemed"
   ]
  },
  {
   "cell_type": "code",
   "execution_count": 27,
   "metadata": {
    "scrolled": true
   },
   "outputs": [
    {
     "data": {
      "text/html": [
       "<div>\n",
       "<style scoped>\n",
       "    .dataframe tbody tr th:only-of-type {\n",
       "        vertical-align: middle;\n",
       "    }\n",
       "\n",
       "    .dataframe tbody tr th {\n",
       "        vertical-align: top;\n",
       "    }\n",
       "\n",
       "    .dataframe thead th {\n",
       "        text-align: right;\n",
       "    }\n",
       "</style>\n",
       "<table border=\"1\" class=\"dataframe\">\n",
       "  <thead>\n",
       "    <tr style=\"text-align: right;\">\n",
       "      <th></th>\n",
       "      <th>Customer_ID</th>\n",
       "      <th>Gender</th>\n",
       "      <th>First_Date</th>\n",
       "      <th>First_region</th>\n",
       "      <th>First_state</th>\n",
       "      <th>First_city</th>\n",
       "      <th>Recent_Date</th>\n",
       "      <th>Last_region</th>\n",
       "      <th>Last_state</th>\n",
       "      <th>Last_city</th>\n",
       "      <th>Customer_Value</th>\n",
       "      <th>Buy_Times</th>\n",
       "      <th>Points_Earned</th>\n",
       "      <th>Points_Redeemed</th>\n",
       "      <th>Customer Value Segment</th>\n",
       "      <th>Average Revenue Per Trip</th>\n",
       "      <th>Balance Points</th>\n",
       "    </tr>\n",
       "  </thead>\n",
       "  <tbody>\n",
       "    <tr>\n",
       "      <th>0</th>\n",
       "      <td>129609144</td>\n",
       "      <td>M</td>\n",
       "      <td>20130130</td>\n",
       "      <td>West</td>\n",
       "      <td>Gujarat</td>\n",
       "      <td>Surat</td>\n",
       "      <td>20130216</td>\n",
       "      <td>West</td>\n",
       "      <td>Gujarat</td>\n",
       "      <td>Surat</td>\n",
       "      <td>2032.0</td>\n",
       "      <td>2</td>\n",
       "      <td>200.0</td>\n",
       "      <td>0.0</td>\n",
       "      <td>Low Value Segment</td>\n",
       "      <td>1016.0</td>\n",
       "      <td>200.0</td>\n",
       "    </tr>\n",
       "    <tr>\n",
       "      <th>1</th>\n",
       "      <td>129627580</td>\n",
       "      <td>M</td>\n",
       "      <td>20130129</td>\n",
       "      <td>North</td>\n",
       "      <td>Delhi</td>\n",
       "      <td>Delhi</td>\n",
       "      <td>20130129</td>\n",
       "      <td>North</td>\n",
       "      <td>Delhi</td>\n",
       "      <td>Delhi</td>\n",
       "      <td>1709.0</td>\n",
       "      <td>1</td>\n",
       "      <td>100.0</td>\n",
       "      <td>0.0</td>\n",
       "      <td>Low Value Segment</td>\n",
       "      <td>1709.0</td>\n",
       "      <td>100.0</td>\n",
       "    </tr>\n",
       "  </tbody>\n",
       "</table>\n",
       "</div>"
      ],
      "text/plain": [
       "   Customer_ID Gender  First_Date First_region First_state First_city  \\\n",
       "0    129609144      M    20130130         West     Gujarat      Surat   \n",
       "1    129627580      M    20130129        North       Delhi      Delhi   \n",
       "\n",
       "   Recent_Date Last_region Last_state Last_city  Customer_Value  Buy_Times  \\\n",
       "0     20130216        West    Gujarat     Surat          2032.0          2   \n",
       "1     20130129       North      Delhi     Delhi          1709.0          1   \n",
       "\n",
       "   Points_Earned  Points_Redeemed Customer Value Segment  \\\n",
       "0          200.0              0.0      Low Value Segment   \n",
       "1          100.0              0.0      Low Value Segment   \n",
       "\n",
       "   Average Revenue Per Trip  Balance Points  \n",
       "0                    1016.0           200.0  \n",
       "1                    1709.0           100.0  "
      ]
     },
     "execution_count": 27,
     "metadata": {},
     "output_type": "execute_result"
    }
   ],
   "source": [
    "cus_data.head(2)"
   ]
  },
  {
   "cell_type": "markdown",
   "metadata": {},
   "source": [
    "#How many days bw Recent_Date and First_Date"
   ]
  },
  {
   "cell_type": "code",
   "execution_count": 28,
   "metadata": {},
   "outputs": [
    {
     "data": {
      "text/plain": [
       "dtype('int64')"
      ]
     },
     "execution_count": 28,
     "metadata": {},
     "output_type": "execute_result"
    }
   ],
   "source": [
    "cus_data.First_Date.dtype"
   ]
  },
  {
   "cell_type": "code",
   "execution_count": 29,
   "metadata": {},
   "outputs": [],
   "source": [
    "from datetime import datetime,timedelta,date"
   ]
  },
  {
   "cell_type": "code",
   "execution_count": 30,
   "metadata": {
    "scrolled": false
   },
   "outputs": [
    {
     "data": {
      "text/plain": [
       "0      2013-02-16\n",
       "1      2013-01-29\n",
       "2      2013-02-21\n",
       "3      2013-02-22\n",
       "4      2013-03-01\n",
       "5      2013-03-14\n",
       "6      2013-03-18\n",
       "7      2013-03-21\n",
       "8      2013-03-31\n",
       "9      2013-03-25\n",
       "10     2012-01-01\n",
       "11     2012-11-11\n",
       "12     2013-03-14\n",
       "13     2012-11-26\n",
       "14     2012-10-13\n",
       "15     2013-01-23\n",
       "16     2012-01-03\n",
       "17     2013-02-12\n",
       "18     2013-02-22\n",
       "19     2013-03-13\n",
       "20     2013-03-07\n",
       "21     2012-12-29\n",
       "22     2012-01-11\n",
       "23     2012-12-10\n",
       "24     2013-03-02\n",
       "25     2012-01-11\n",
       "26     2012-06-23\n",
       "27     2013-01-18\n",
       "28     2013-02-22\n",
       "29     2013-01-08\n",
       "          ...    \n",
       "9970   2013-03-30\n",
       "9971   2013-02-22\n",
       "9972   2012-10-14\n",
       "9973   2013-02-22\n",
       "9974   2013-03-19\n",
       "9975   2012-05-24\n",
       "9976   2013-01-14\n",
       "9977   2012-01-21\n",
       "9978   2012-01-27\n",
       "9979   2012-11-27\n",
       "9980   2013-03-12\n",
       "9981   2012-01-31\n",
       "9982   2013-03-13\n",
       "9983   2013-03-10\n",
       "9984   2013-03-10\n",
       "9985   2012-12-11\n",
       "9986   2012-02-01\n",
       "9987   2013-03-28\n",
       "9988   2012-02-01\n",
       "9989   2012-02-01\n",
       "9990   2012-02-03\n",
       "9991   2012-05-23\n",
       "9992   2012-05-08\n",
       "9993   2012-02-05\n",
       "9994   2013-02-18\n",
       "9995   2012-11-14\n",
       "9996   2013-03-19\n",
       "9997   2013-02-16\n",
       "9998   2012-02-15\n",
       "9999   2012-02-17\n",
       "Name: Recent_Date, Length: 10000, dtype: object"
      ]
     },
     "execution_count": 30,
     "metadata": {},
     "output_type": "execute_result"
    }
   ],
   "source": [
    "def conv(x):\n",
    "    return pd.Period(year = x // 10000, month = x//100 % 100, day = x%100, freq='D')\n",
    "cus_data['First_Date'].apply(conv)\n",
    "cus_data['Recent_Date'].apply(conv)"
   ]
  },
  {
   "cell_type": "code",
   "execution_count": 31,
   "metadata": {},
   "outputs": [],
   "source": [
    "f_d = pd.to_datetime(cus_data['First_Date'],format = '%Y%m%d')"
   ]
  },
  {
   "cell_type": "code",
   "execution_count": 32,
   "metadata": {},
   "outputs": [],
   "source": [
    "r_d = pd.to_datetime(cus_data['Recent_Date'],format = '%Y%m%d')"
   ]
  },
  {
   "cell_type": "code",
   "execution_count": 33,
   "metadata": {},
   "outputs": [
    {
     "data": {
      "text/plain": [
       "0   2013-01-30\n",
       "1   2013-01-29\n",
       "Name: First_Date, dtype: datetime64[ns]"
      ]
     },
     "execution_count": 33,
     "metadata": {},
     "output_type": "execute_result"
    }
   ],
   "source": [
    "f_d.head(2)"
   ]
  },
  {
   "cell_type": "code",
   "execution_count": 34,
   "metadata": {},
   "outputs": [],
   "source": [
    "diff = r_d - f_d"
   ]
  },
  {
   "cell_type": "code",
   "execution_count": 35,
   "metadata": {},
   "outputs": [
    {
     "data": {
      "text/plain": [
       "0   17 days\n",
       "1    0 days\n",
       "2    0 days\n",
       "3    0 days\n",
       "dtype: timedelta64[ns]"
      ]
     },
     "execution_count": 35,
     "metadata": {},
     "output_type": "execute_result"
    }
   ],
   "source": [
    "diff.head(4)"
   ]
  },
  {
   "cell_type": "code",
   "execution_count": 36,
   "metadata": {},
   "outputs": [],
   "source": [
    "cus_data['No Of Days '] = diff"
   ]
  },
  {
   "cell_type": "code",
   "execution_count": 37,
   "metadata": {
    "scrolled": true
   },
   "outputs": [
    {
     "data": {
      "text/html": [
       "<div>\n",
       "<style scoped>\n",
       "    .dataframe tbody tr th:only-of-type {\n",
       "        vertical-align: middle;\n",
       "    }\n",
       "\n",
       "    .dataframe tbody tr th {\n",
       "        vertical-align: top;\n",
       "    }\n",
       "\n",
       "    .dataframe thead th {\n",
       "        text-align: right;\n",
       "    }\n",
       "</style>\n",
       "<table border=\"1\" class=\"dataframe\">\n",
       "  <thead>\n",
       "    <tr style=\"text-align: right;\">\n",
       "      <th></th>\n",
       "      <th>Customer_ID</th>\n",
       "      <th>Gender</th>\n",
       "      <th>First_Date</th>\n",
       "      <th>First_region</th>\n",
       "      <th>First_state</th>\n",
       "      <th>First_city</th>\n",
       "      <th>Recent_Date</th>\n",
       "      <th>Last_region</th>\n",
       "      <th>Last_state</th>\n",
       "      <th>Last_city</th>\n",
       "      <th>Customer_Value</th>\n",
       "      <th>Buy_Times</th>\n",
       "      <th>Points_Earned</th>\n",
       "      <th>Points_Redeemed</th>\n",
       "      <th>Customer Value Segment</th>\n",
       "      <th>Average Revenue Per Trip</th>\n",
       "      <th>Balance Points</th>\n",
       "      <th>No Of Days</th>\n",
       "    </tr>\n",
       "  </thead>\n",
       "  <tbody>\n",
       "    <tr>\n",
       "      <th>0</th>\n",
       "      <td>129609144</td>\n",
       "      <td>M</td>\n",
       "      <td>20130130</td>\n",
       "      <td>West</td>\n",
       "      <td>Gujarat</td>\n",
       "      <td>Surat</td>\n",
       "      <td>20130216</td>\n",
       "      <td>West</td>\n",
       "      <td>Gujarat</td>\n",
       "      <td>Surat</td>\n",
       "      <td>2032.0</td>\n",
       "      <td>2</td>\n",
       "      <td>200.0</td>\n",
       "      <td>0.0</td>\n",
       "      <td>Low Value Segment</td>\n",
       "      <td>1016.0</td>\n",
       "      <td>200.0</td>\n",
       "      <td>17 days</td>\n",
       "    </tr>\n",
       "    <tr>\n",
       "      <th>1</th>\n",
       "      <td>129627580</td>\n",
       "      <td>M</td>\n",
       "      <td>20130129</td>\n",
       "      <td>North</td>\n",
       "      <td>Delhi</td>\n",
       "      <td>Delhi</td>\n",
       "      <td>20130129</td>\n",
       "      <td>North</td>\n",
       "      <td>Delhi</td>\n",
       "      <td>Delhi</td>\n",
       "      <td>1709.0</td>\n",
       "      <td>1</td>\n",
       "      <td>100.0</td>\n",
       "      <td>0.0</td>\n",
       "      <td>Low Value Segment</td>\n",
       "      <td>1709.0</td>\n",
       "      <td>100.0</td>\n",
       "      <td>0 days</td>\n",
       "    </tr>\n",
       "    <tr>\n",
       "      <th>2</th>\n",
       "      <td>130363481</td>\n",
       "      <td>M</td>\n",
       "      <td>20130221</td>\n",
       "      <td>West</td>\n",
       "      <td>Gujarat</td>\n",
       "      <td>Surat</td>\n",
       "      <td>20130221</td>\n",
       "      <td>West</td>\n",
       "      <td>Gujarat</td>\n",
       "      <td>Surat</td>\n",
       "      <td>523.0</td>\n",
       "      <td>1</td>\n",
       "      <td>10.0</td>\n",
       "      <td>0.0</td>\n",
       "      <td>Low Value Segment</td>\n",
       "      <td>523.0</td>\n",
       "      <td>10.0</td>\n",
       "      <td>0 days</td>\n",
       "    </tr>\n",
       "    <tr>\n",
       "      <th>3</th>\n",
       "      <td>49817480</td>\n",
       "      <td>M</td>\n",
       "      <td>20130222</td>\n",
       "      <td>West</td>\n",
       "      <td>Maharashtra</td>\n",
       "      <td>Pimpri-Chinchwad</td>\n",
       "      <td>20130222</td>\n",
       "      <td>West</td>\n",
       "      <td>Maharashtra</td>\n",
       "      <td>Pimpri-Chinchwad</td>\n",
       "      <td>5132.0</td>\n",
       "      <td>1</td>\n",
       "      <td>170.0</td>\n",
       "      <td>0.0</td>\n",
       "      <td>Low Value Segment</td>\n",
       "      <td>5132.0</td>\n",
       "      <td>170.0</td>\n",
       "      <td>0 days</td>\n",
       "    </tr>\n",
       "  </tbody>\n",
       "</table>\n",
       "</div>"
      ],
      "text/plain": [
       "   Customer_ID Gender  First_Date First_region  First_state        First_city  \\\n",
       "0    129609144      M    20130130         West      Gujarat             Surat   \n",
       "1    129627580      M    20130129        North        Delhi             Delhi   \n",
       "2    130363481      M    20130221         West      Gujarat             Surat   \n",
       "3     49817480      M    20130222         West  Maharashtra  Pimpri-Chinchwad   \n",
       "\n",
       "   Recent_Date Last_region   Last_state         Last_city  Customer_Value  \\\n",
       "0     20130216        West      Gujarat             Surat          2032.0   \n",
       "1     20130129       North        Delhi             Delhi          1709.0   \n",
       "2     20130221        West      Gujarat             Surat           523.0   \n",
       "3     20130222        West  Maharashtra  Pimpri-Chinchwad          5132.0   \n",
       "\n",
       "   Buy_Times  Points_Earned  Points_Redeemed Customer Value Segment  \\\n",
       "0          2          200.0              0.0      Low Value Segment   \n",
       "1          1          100.0              0.0      Low Value Segment   \n",
       "2          1           10.0              0.0      Low Value Segment   \n",
       "3          1          170.0              0.0      Low Value Segment   \n",
       "\n",
       "   Average Revenue Per Trip  Balance Points No Of Days   \n",
       "0                    1016.0           200.0     17 days  \n",
       "1                    1709.0           100.0      0 days  \n",
       "2                     523.0            10.0      0 days  \n",
       "3                    5132.0           170.0      0 days  "
      ]
     },
     "execution_count": 37,
     "metadata": {},
     "output_type": "execute_result"
    }
   ],
   "source": [
    "cus_data.head(4)"
   ]
  },
  {
   "cell_type": "markdown",
   "metadata": {},
   "source": [
    "#Percentage_Of_Sales by each Last_city, Last_state, Last_region"
   ]
  },
  {
   "cell_type": "code",
   "execution_count": 38,
   "metadata": {},
   "outputs": [],
   "source": [
    "sum_ls = cus_data.groupby('Last_state')['Customer_Value'].sum()"
   ]
  },
  {
   "cell_type": "code",
   "execution_count": 39,
   "metadata": {},
   "outputs": [],
   "source": [
    "per_ls = (sum_ls / cus_data['Customer_Value'].sum())*100"
   ]
  },
  {
   "cell_type": "code",
   "execution_count": 40,
   "metadata": {},
   "outputs": [
    {
     "data": {
      "text/plain": [
       "Last_state\n",
       "Andhra Pradesh    1.472727\n",
       "Assam             1.557344\n",
       "Bihar             0.260640\n",
       "Chandigarh        0.032769\n",
       "Name: Customer_Value, dtype: float64"
      ]
     },
     "execution_count": 40,
     "metadata": {},
     "output_type": "execute_result"
    }
   ],
   "source": [
    "per_ls.head(4)"
   ]
  },
  {
   "cell_type": "code",
   "execution_count": 41,
   "metadata": {},
   "outputs": [],
   "source": [
    "sum_lr = cus_data.groupby('Last_region')['Customer_Value'].sum()"
   ]
  },
  {
   "cell_type": "code",
   "execution_count": 42,
   "metadata": {},
   "outputs": [],
   "source": [
    "per_lr = (sum_lr / cus_data['Customer_Value'].sum())*100"
   ]
  },
  {
   "cell_type": "code",
   "execution_count": 43,
   "metadata": {},
   "outputs": [
    {
     "data": {
      "text/plain": [
       "Last_region\n",
       "East      7.798658\n",
       "North    27.741557\n",
       "South    15.403798\n",
       "West     49.055986\n",
       "Name: Customer_Value, dtype: float64"
      ]
     },
     "execution_count": 43,
     "metadata": {},
     "output_type": "execute_result"
    }
   ],
   "source": [
    "per_lr"
   ]
  },
  {
   "cell_type": "code",
   "execution_count": 44,
   "metadata": {},
   "outputs": [],
   "source": [
    "sum_lc = cus_data.groupby('Last_city')['Customer_Value'].sum()"
   ]
  },
  {
   "cell_type": "code",
   "execution_count": 45,
   "metadata": {},
   "outputs": [],
   "source": [
    "per_lc = (sum_lc / cus_data['Customer_Value'].sum())*100"
   ]
  },
  {
   "cell_type": "code",
   "execution_count": 46,
   "metadata": {
    "scrolled": false
   },
   "outputs": [
    {
     "data": {
      "text/plain": [
       "Last_city\n",
       "Agartala     0.018824\n",
       "Agra         0.268937\n",
       "Ahmedabad    6.063446\n",
       "Aligarh      0.025499\n",
       "Name: Customer_Value, dtype: float64"
      ]
     },
     "execution_count": 46,
     "metadata": {},
     "output_type": "execute_result"
    }
   ],
   "source": [
    "per_lc.head(4)"
   ]
  },
  {
   "cell_type": "markdown",
   "metadata": {},
   "source": [
    "#What is \n",
    "##-> Count Of Customers by Last_state and Last_city\n",
    "###-> Average No Of Purchases by Last_state and Last_city\n",
    "####->Average Purchase Transaction Value by Last_state and Last_city"
   ]
  },
  {
   "cell_type": "code",
   "execution_count": 47,
   "metadata": {},
   "outputs": [
    {
     "data": {
      "text/html": [
       "<div>\n",
       "<style scoped>\n",
       "    .dataframe tbody tr th:only-of-type {\n",
       "        vertical-align: middle;\n",
       "    }\n",
       "\n",
       "    .dataframe tbody tr th {\n",
       "        vertical-align: top;\n",
       "    }\n",
       "\n",
       "    .dataframe thead th {\n",
       "        text-align: right;\n",
       "    }\n",
       "</style>\n",
       "<table border=\"1\" class=\"dataframe\">\n",
       "  <thead>\n",
       "    <tr style=\"text-align: right;\">\n",
       "      <th></th>\n",
       "      <th></th>\n",
       "      <th>Customer_ID</th>\n",
       "    </tr>\n",
       "    <tr>\n",
       "      <th>Last_state</th>\n",
       "      <th>Last_city</th>\n",
       "      <th></th>\n",
       "    </tr>\n",
       "  </thead>\n",
       "  <tbody>\n",
       "    <tr>\n",
       "      <th rowspan=\"4\" valign=\"top\">Andhra Pradesh</th>\n",
       "      <th>Guntur</th>\n",
       "      <td>1</td>\n",
       "    </tr>\n",
       "    <tr>\n",
       "      <th>Kurnool</th>\n",
       "      <td>1</td>\n",
       "    </tr>\n",
       "    <tr>\n",
       "      <th>Tirupati</th>\n",
       "      <td>2</td>\n",
       "    </tr>\n",
       "    <tr>\n",
       "      <th>Vijayawada</th>\n",
       "      <td>20</td>\n",
       "    </tr>\n",
       "  </tbody>\n",
       "</table>\n",
       "</div>"
      ],
      "text/plain": [
       "                           Customer_ID\n",
       "Last_state     Last_city              \n",
       "Andhra Pradesh Guntur                1\n",
       "               Kurnool               1\n",
       "               Tirupati              2\n",
       "               Vijayawada           20"
      ]
     },
     "execution_count": 47,
     "metadata": {},
     "output_type": "execute_result"
    }
   ],
   "source": [
    "cou_cus = pd.pivot_table(cus_data,index=['Last_state','Last_city'],values=['Customer_ID'],aggfunc=len)\n",
    "cou_cus.head(4)"
   ]
  },
  {
   "cell_type": "code",
   "execution_count": 48,
   "metadata": {},
   "outputs": [
    {
     "data": {
      "text/html": [
       "<div>\n",
       "<style scoped>\n",
       "    .dataframe tbody tr th:only-of-type {\n",
       "        vertical-align: middle;\n",
       "    }\n",
       "\n",
       "    .dataframe tbody tr th {\n",
       "        vertical-align: top;\n",
       "    }\n",
       "\n",
       "    .dataframe thead th {\n",
       "        text-align: right;\n",
       "    }\n",
       "</style>\n",
       "<table border=\"1\" class=\"dataframe\">\n",
       "  <thead>\n",
       "    <tr style=\"text-align: right;\">\n",
       "      <th></th>\n",
       "      <th></th>\n",
       "      <th>Buy_Times</th>\n",
       "    </tr>\n",
       "    <tr>\n",
       "      <th>Last_state</th>\n",
       "      <th>Last_city</th>\n",
       "      <th></th>\n",
       "    </tr>\n",
       "  </thead>\n",
       "  <tbody>\n",
       "    <tr>\n",
       "      <th rowspan=\"4\" valign=\"top\">Andhra Pradesh</th>\n",
       "      <th>Guntur</th>\n",
       "      <td>3.0</td>\n",
       "    </tr>\n",
       "    <tr>\n",
       "      <th>Kurnool</th>\n",
       "      <td>4.0</td>\n",
       "    </tr>\n",
       "    <tr>\n",
       "      <th>Tirupati</th>\n",
       "      <td>6.0</td>\n",
       "    </tr>\n",
       "    <tr>\n",
       "      <th>Vijayawada</th>\n",
       "      <td>10.1</td>\n",
       "    </tr>\n",
       "  </tbody>\n",
       "</table>\n",
       "</div>"
      ],
      "text/plain": [
       "                           Buy_Times\n",
       "Last_state     Last_city            \n",
       "Andhra Pradesh Guntur            3.0\n",
       "               Kurnool           4.0\n",
       "               Tirupati          6.0\n",
       "               Vijayawada       10.1"
      ]
     },
     "execution_count": 48,
     "metadata": {},
     "output_type": "execute_result"
    }
   ],
   "source": [
    "avg_buy = pd.pivot_table(cus_data,index=['Last_state','Last_city'],values=['Buy_Times'])\n",
    "avg_buy.head(4)"
   ]
  },
  {
   "cell_type": "code",
   "execution_count": 49,
   "metadata": {},
   "outputs": [],
   "source": [
    "avg_purc = pd.pivot_table(cus_data,index=['Last_state','Last_city'],values=['Customer_Value','Buy_Times'],aggfunc=np.sum)"
   ]
  },
  {
   "cell_type": "code",
   "execution_count": 50,
   "metadata": {},
   "outputs": [],
   "source": [
    "avg_purc['Average Transaction Value'] = avg_purc.Customer_Value / avg_purc.Buy_Times"
   ]
  },
  {
   "cell_type": "code",
   "execution_count": 51,
   "metadata": {},
   "outputs": [
    {
     "data": {
      "text/html": [
       "<div>\n",
       "<style scoped>\n",
       "    .dataframe tbody tr th:only-of-type {\n",
       "        vertical-align: middle;\n",
       "    }\n",
       "\n",
       "    .dataframe tbody tr th {\n",
       "        vertical-align: top;\n",
       "    }\n",
       "\n",
       "    .dataframe thead th {\n",
       "        text-align: right;\n",
       "    }\n",
       "</style>\n",
       "<table border=\"1\" class=\"dataframe\">\n",
       "  <thead>\n",
       "    <tr style=\"text-align: right;\">\n",
       "      <th></th>\n",
       "      <th></th>\n",
       "      <th>Buy_Times</th>\n",
       "      <th>Customer_Value</th>\n",
       "      <th>Average Transaction Value</th>\n",
       "    </tr>\n",
       "    <tr>\n",
       "      <th>Last_state</th>\n",
       "      <th>Last_city</th>\n",
       "      <th></th>\n",
       "      <th></th>\n",
       "      <th></th>\n",
       "    </tr>\n",
       "  </thead>\n",
       "  <tbody>\n",
       "    <tr>\n",
       "      <th rowspan=\"4\" valign=\"top\">Andhra Pradesh</th>\n",
       "      <th>Guntur</th>\n",
       "      <td>3</td>\n",
       "      <td>0.000</td>\n",
       "      <td>0.000000</td>\n",
       "    </tr>\n",
       "    <tr>\n",
       "      <th>Kurnool</th>\n",
       "      <td>4</td>\n",
       "      <td>3113.499</td>\n",
       "      <td>778.374750</td>\n",
       "    </tr>\n",
       "    <tr>\n",
       "      <th>Tirupati</th>\n",
       "      <td>12</td>\n",
       "      <td>18500.000</td>\n",
       "      <td>1541.666667</td>\n",
       "    </tr>\n",
       "    <tr>\n",
       "      <th>Vijayawada</th>\n",
       "      <td>202</td>\n",
       "      <td>493402.002</td>\n",
       "      <td>2442.584168</td>\n",
       "    </tr>\n",
       "  </tbody>\n",
       "</table>\n",
       "</div>"
      ],
      "text/plain": [
       "                           Buy_Times  Customer_Value  \\\n",
       "Last_state     Last_city                               \n",
       "Andhra Pradesh Guntur              3           0.000   \n",
       "               Kurnool             4        3113.499   \n",
       "               Tirupati           12       18500.000   \n",
       "               Vijayawada        202      493402.002   \n",
       "\n",
       "                           Average Transaction Value  \n",
       "Last_state     Last_city                              \n",
       "Andhra Pradesh Guntur                       0.000000  \n",
       "               Kurnool                    778.374750  \n",
       "               Tirupati                  1541.666667  \n",
       "               Vijayawada                2442.584168  "
      ]
     },
     "execution_count": 51,
     "metadata": {},
     "output_type": "execute_result"
    }
   ],
   "source": [
    "avg_purc.head(4)"
   ]
  }
 ],
 "metadata": {
  "kernelspec": {
   "display_name": "Python 2",
   "language": "python",
   "name": "python2"
  },
  "language_info": {
   "codemirror_mode": {
    "name": "ipython",
    "version": 2
   },
   "file_extension": ".py",
   "mimetype": "text/x-python",
   "name": "python",
   "nbconvert_exporter": "python",
   "pygments_lexer": "ipython2",
   "version": "2.7.14"
  }
 },
 "nbformat": 4,
 "nbformat_minor": 2
}
